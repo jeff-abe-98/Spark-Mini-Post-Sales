{
 "cells": [
  {
   "cell_type": "code",
   "execution_count": 0,
   "metadata": {
    "application/vnd.databricks.v1+cell": {
     "cellMetadata": {
      "byteLimit": 2048000,
      "rowLimit": 10000
     },
     "inputWidgets": {},
     "nuid": "1dd7668c-6b21-4c13-b598-2d91147b91bf",
     "showTitle": false,
     "title": ""
    }
   },
   "outputs": [],
   "source": [
    "import pyspark\n",
    "from pyspark.sql import SparkSession\n",
    "from pyspark.sql import Row\n",
    "from pyspark.sql.types import StructType, StructField, IntegerType, DecimalType, StringType, DateType, TimestampType\n",
    "from decimal import Decimal\n",
    "from datetime import datetime\n",
    "spark = SparkSession.builder.appName('PostSalesReport').getOrCreate()"
   ]
  },
  {
   "cell_type": "code",
   "execution_count": 0,
   "metadata": {
    "application/vnd.databricks.v1+cell": {
     "cellMetadata": {
      "byteLimit": 2048000,
      "rowLimit": 10000
     },
     "inputWidgets": {},
     "nuid": "0f7d0baa-f7ac-4b23-816d-fdfc732ab2b5",
     "showTitle": false,
     "title": ""
    }
   },
   "outputs": [
    {
     "output_type": "execute_result",
     "data": {
      "text/plain": [
       "True"
      ]
     },
     "execution_count": 2,
     "metadata": {},
     "output_type": "execute_result"
    }
   ],
   "source": [
    "dbutils.fs.mount(\n",
    "  source = \"wasbs://mini-proj@sbguidedcapstorage.blob.core.windows.net/\",\n",
    "  mount_point = \"/mnt/mini-proj\",\n",
    "  extra_configs  = {\"fs.azure.account.key.sbguidedcapstorage.blob.core.windows.net\" : dbutils.secrets.get('key-vault-scope', 'sbguidedcapstorage')}\n",
    ")"
   ]
  },
  {
   "cell_type": "code",
   "execution_count": 0,
   "metadata": {
    "application/vnd.databricks.v1+cell": {
     "cellMetadata": {
      "byteLimit": 2048000,
      "rowLimit": 10000
     },
     "inputWidgets": {},
     "nuid": "2be0bb05-77c6-4a28-b7aa-699229290037",
     "showTitle": false,
     "title": ""
    }
   },
   "outputs": [],
   "source": [
    "schema = StructType([\n",
    "    StructField('incident_id',IntegerType(),True),\n",
    "    StructField('incident_type', StringType(), True),\n",
    "    StructField('vin_number', StringType(), True),\n",
    "    StructField('make', StringType(), True),\n",
    "    StructField('model', StringType(), True),\n",
    "    StructField('year', StringType(), True),\n",
    "    StructField('incident_date', DateType(), True),\n",
    "    StructField('description', StringType(), True)\n",
    "])"
   ]
  },
  {
   "cell_type": "code",
   "execution_count": 0,
   "metadata": {
    "application/vnd.databricks.v1+cell": {
     "cellMetadata": {
      "byteLimit": 2048000,
      "rowLimit": 10000
     },
     "inputWidgets": {},
     "nuid": "b10f273b-bc4d-4d5c-9002-fc52848efb73",
     "showTitle": false,
     "title": ""
    }
   },
   "outputs": [],
   "source": [
    "raw_frame = spark.read.format('csv').schema(schema).load('/mnt/mini-proj/data.csv')"
   ]
  },
  {
   "cell_type": "code",
   "execution_count": 0,
   "metadata": {
    "application/vnd.databricks.v1+cell": {
     "cellMetadata": {
      "byteLimit": 2048000,
      "rowLimit": 10000
     },
     "inputWidgets": {},
     "nuid": "8ae70b52-c7ba-4f6c-a1c4-82b2bfb6072e",
     "showTitle": false,
     "title": ""
    }
   },
   "outputs": [
    {
     "output_type": "stream",
     "name": "stdout",
     "output_type": "stream",
     "text": [
      "+-----------+-------------+-----------------+--------+------+----+-------------+--------------------+\n|incident_id|incident_type|       vin_number|    make| model|year|incident_date|         description|\n+-----------+-------------+-----------------+--------+------+----+-------------+--------------------+\n|          1|            I|VXIO456XLBB630221|  Nissan|Altima|2003|   2002-05-08|Initial sales fro...|\n|          2|            I|INU45KIOOPA343980|Mercedes|  C300|2015|   2014-01-01|Sold from EuroMotors|\n+-----------+-------------+-----------------+--------+------+----+-------------+--------------------+\nonly showing top 2 rows\n\n"
     ]
    }
   ],
   "source": [
    "raw_frame.show(2)"
   ]
  },
  {
   "cell_type": "code",
   "execution_count": 0,
   "metadata": {
    "application/vnd.databricks.v1+cell": {
     "cellMetadata": {
      "byteLimit": 2048000,
      "rowLimit": 10000
     },
     "inputWidgets": {},
     "nuid": "9c88966a-2a00-460f-b46e-d51753bbbe80",
     "showTitle": false,
     "title": ""
    }
   },
   "outputs": [],
   "source": [
    "def extract_vin_key_value(x):\n",
    "    r_tuple = (x['vin_number'], [x['make'], x['year'],x['incident_type']]) if x['incident_type'] == 'I' else (x['vin_number'], [None,None,x['incident_type']])\n",
    "    return r_tuple"
   ]
  },
  {
   "cell_type": "code",
   "execution_count": 0,
   "metadata": {
    "application/vnd.databricks.v1+cell": {
     "cellMetadata": {
      "byteLimit": 2048000,
      "rowLimit": 10000
     },
     "inputWidgets": {},
     "nuid": "a2f821f7-bc05-47ca-94d1-ce4f03ca47ab",
     "showTitle": false,
     "title": ""
    }
   },
   "outputs": [],
   "source": [
    "vin_kv = raw_frame.rdd.map(lambda x: extract_vin_key_value(x))"
   ]
  },
  {
   "cell_type": "code",
   "execution_count": 0,
   "metadata": {
    "application/vnd.databricks.v1+cell": {
     "cellMetadata": {
      "byteLimit": 2048000,
      "rowLimit": 10000
     },
     "inputWidgets": {},
     "nuid": "fac37ee0-58a5-4dc0-a0f1-e3151cb83e3c",
     "showTitle": false,
     "title": ""
    }
   },
   "outputs": [],
   "source": [
    "def populate_make(iter):\n",
    "    l = [item[0:2] for item in iter if item[0] is not None]\n",
    "    return l*len(iter)"
   ]
  },
  {
   "cell_type": "code",
   "execution_count": 0,
   "metadata": {
    "application/vnd.databricks.v1+cell": {
     "cellMetadata": {
      "byteLimit": 2048000,
      "rowLimit": 10000
     },
     "inputWidgets": {},
     "nuid": "3bcab028-a346-4330-97fb-6df284ebbba7",
     "showTitle": false,
     "title": ""
    }
   },
   "outputs": [],
   "source": [
    "enhance_make = vin_kv.groupByKey().flatMap(lambda kv: populate_make(kv[1]))"
   ]
  },
  {
   "cell_type": "code",
   "execution_count": 0,
   "metadata": {
    "application/vnd.databricks.v1+cell": {
     "cellMetadata": {
      "byteLimit": 2048000,
      "rowLimit": 10000
     },
     "inputWidgets": {},
     "nuid": "84c25313-8f4d-443a-a0bb-1c66bc5dfe8b",
     "showTitle": false,
     "title": ""
    }
   },
   "outputs": [],
   "source": [
    "def extract_make_key_value(x):\n",
    "    return (x[0]+'-'+x[1], 1)"
   ]
  },
  {
   "cell_type": "code",
   "execution_count": 0,
   "metadata": {
    "application/vnd.databricks.v1+cell": {
     "cellMetadata": {
      "byteLimit": 2048000,
      "rowLimit": 10000
     },
     "inputWidgets": {},
     "nuid": "2b523ce5-181b-4b95-8b50-16c9408c258c",
     "showTitle": false,
     "title": ""
    }
   },
   "outputs": [],
   "source": [
    "make_kv = enhance_make.map(lambda x: extract_make_key_value(x))"
   ]
  },
  {
   "cell_type": "code",
   "execution_count": 0,
   "metadata": {
    "application/vnd.databricks.v1+cell": {
     "cellMetadata": {
      "byteLimit": 2048000,
      "rowLimit": 10000
     },
     "inputWidgets": {},
     "nuid": "92b74b50-b847-4e30-b6af-7908c60ff36b",
     "showTitle": false,
     "title": ""
    }
   },
   "outputs": [
    {
     "output_type": "execute_result",
     "data": {
      "text/plain": [
       "[('Nissan-2003', 1),\n",
       " ('Nissan-2003', 1),\n",
       " ('Nissan-2003', 1),\n",
       " ('Nissan-2003', 1),\n",
       " ('Mercedes-2015', 1),\n",
       " ('Mercedes-2015', 1),\n",
       " ('Mercedes-2015', 1),\n",
       " ('Mercedes-2015', 1),\n",
       " ('Mercedes-2015', 1),\n",
       " ('Mercedes-2015', 1),\n",
       " ('Mercedes-2015', 1),\n",
       " ('Mercedes-2016', 1),\n",
       " ('Mercedes-2016', 1),\n",
       " ('Mercedes-2016', 1),\n",
       " ('Toyota-2017', 1),\n",
       " ('Toyota-2017', 1)]"
      ]
     },
     "execution_count": 104,
     "metadata": {},
     "output_type": "execute_result"
    }
   ],
   "source": [
    "make_kv.collect()"
   ]
  },
  {
   "cell_type": "code",
   "execution_count": 0,
   "metadata": {
    "application/vnd.databricks.v1+cell": {
     "cellMetadata": {
      "byteLimit": 2048000,
      "rowLimit": 10000
     },
     "inputWidgets": {},
     "nuid": "b3982f64-105c-4ddf-9baa-594d29b08c53",
     "showTitle": false,
     "title": ""
    }
   },
   "outputs": [],
   "source": [
    "final = make_kv.reduceByKey(lambda x, y: x + y)"
   ]
  },
  {
   "cell_type": "code",
   "execution_count": 0,
   "metadata": {
    "application/vnd.databricks.v1+cell": {
     "cellMetadata": {
      "byteLimit": 2048000,
      "rowLimit": 10000
     },
     "inputWidgets": {},
     "nuid": "4a334c2f-6b5f-47e4-b61d-dc67ac72b069",
     "showTitle": false,
     "title": ""
    }
   },
   "outputs": [],
   "source": [
    "final.toDF().write.csv('/mnt/mini-proj/output.csv')"
   ]
  }
 ],
 "metadata": {
  "application/vnd.databricks.v1+notebook": {
   "dashboards": [],
   "language": "python",
   "notebookMetadata": {
    "pythonIndentUnit": 4
   },
   "notebookName": "Spark Mini Project",
   "widgets": {}
  }
 },
 "nbformat": 4,
 "nbformat_minor": 0
}
